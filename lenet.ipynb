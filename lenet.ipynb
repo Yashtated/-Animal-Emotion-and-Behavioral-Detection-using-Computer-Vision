{
  "cells": [
    {
      "cell_type": "code",
      "execution_count": null,
      "metadata": {
        "id": "O8iIpN8IwdCO"
      },
      "outputs": [],
      "source": [
        "import warnings\n",
        "warnings.filterwarnings(\"ignore\")"
      ]
    },
    {
      "cell_type": "code",
      "execution_count": null,
      "metadata": {
        "colab": {
          "base_uri": "https://localhost:8080/"
        },
        "id": "wZ7zsiJGi9Iu",
        "outputId": "ef8c188e-09f0-4911-9efd-12abb9ba2817"
      },
      "outputs": [
        {
          "name": "stdout",
          "output_type": "stream",
          "text": [
            "Mounted at /content/drive\n"
          ]
        }
      ],
      "source": [
        "from google.colab import drive\n",
        "drive.mount('/content/drive')"
      ]
    },
    {
      "cell_type": "code",
      "execution_count": null,
      "metadata": {
        "colab": {
          "base_uri": "https://localhost:8080/"
        },
        "id": "Y_1hG6P8wkF3",
        "outputId": "38034d40-df3b-4108-ede0-d9f500a14a69"
      },
      "outputs": [
        {
          "name": "stdout",
          "output_type": "stream",
          "text": [
            "2.11.0\n"
          ]
        }
      ],
      "source": [
        "import seaborn as sns\n",
        "import pandas as pd\n",
        "import numpy as np\n",
        "import matplotlib.pyplot as plt\n",
        "import pickle\n",
        "import random\n",
        "import keras\n",
        "from keras.layers import Flatten\n",
        "from keras.preprocessing import image\n",
        "from keras.preprocessing.image import ImageDataGenerator\n",
        "from glob import glob\n",
        "from keras.models import Sequential\n",
        "from keras.layers import Input, Dense\n",
        "from keras.applications.resnet import preprocess_input\n",
        "print(keras.__version__)\n",
        "from keras.layers import Conv2D, MaxPooling2D, AveragePooling2D, Dense, Flatten, Dropout\n",
        "from keras.optimizers import Adam\n",
        "from keras.callbacks import TensorBoard"
      ]
    },
    {
      "cell_type": "code",
      "execution_count": null,
      "metadata": {
        "colab": {
          "base_uri": "https://localhost:8080/"
        },
        "id": "fqMiigLzxARY",
        "outputId": "2c151a79-6b65-4e6c-9dc0-68e13425d0b4"
      },
      "outputs": [
        {
          "name": "stdout",
          "output_type": "stream",
          "text": [
            "Looking in indexes: https://pypi.org/simple, https://us-python.pkg.dev/colab-wheels/public/simple/\n",
            "Collecting split-folders[full]\n",
            "  Downloading split_folders-0.5.1-py3-none-any.whl (8.4 kB)\n",
            "Requirement already satisfied: tqdm in /usr/local/lib/python3.9/dist-packages (from split-folders[full]) (4.65.0)\n",
            "Installing collected packages: split-folders\n",
            "Successfully installed split-folders-0.5.1\n"
          ]
        }
      ],
      "source": [
        "pip install split-folders[full]"
      ]
    },
    {
      "cell_type": "code",
      "execution_count": null,
      "metadata": {
        "colab": {
          "base_uri": "https://localhost:8080/"
        },
        "id": "JvaIoghC1cSK",
        "outputId": "7fdbf89c-020b-4e2f-a96b-51b94b038e11"
      },
      "outputs": [
        {
          "name": "stderr",
          "output_type": "stream",
          "text": [
            "Copying files: 3709 files [18:50,  3.28 files/s]\n"
          ]
        }
      ],
      "source": [
        "import splitfolders\n",
        "input_folder = '/content/drive/MyDrive/rabies-data'\n",
        "#######ration of split is 70%, 20% and 10%\n",
        "splitfolders.ratio(input_folder, output=\"/content/drive/MyDrive/dataset\",\n",
        "                   seed=42, ratio=(.7, .2, .1),\n",
        "                   group_prefix=None)"
      ]
    },
    {
      "cell_type": "code",
      "execution_count": null,
      "metadata": {
        "id": "c_7wpqcG8IOA"
      },
      "outputs": [],
      "source": [
        "num_classes = 2\n",
        "\n",
        "image_resize = 224\n",
        "\n",
        "batch_size_training = 100\n",
        "batch_size_validation = 100\n",
        "train_path = '/content/drive/MyDrive/dataset/train'\n",
        "valid_path = '/content/drive/MyDrive/dataset/val'"
      ]
    },
    {
      "cell_type": "code",
      "execution_count": null,
      "metadata": {
        "id": "mWyysAgj8K5m"
      },
      "outputs": [],
      "source": [
        "data_generator = ImageDataGenerator(\n",
        "    preprocessing_function=preprocess_input,)"
      ]
    },
    {
      "cell_type": "code",
      "execution_count": null,
      "metadata": {
        "colab": {
          "base_uri": "https://localhost:8080/"
        },
        "id": "y6QoavK18OTN",
        "outputId": "bc07bc1d-8645-4d9f-da7e-841edb96bb9b"
      },
      "outputs": [
        {
          "name": "stdout",
          "output_type": "stream",
          "text": [
            "Found 3245 images belonging to 2 classes.\n"
          ]
        }
      ],
      "source": [
        "train_generator = data_generator.flow_from_directory(\n",
        "    train_path,\n",
        "    target_size=(image_resize, image_resize),\n",
        "    batch_size=batch_size_training,\n",
        "    class_mode='sparse')"
      ]
    },
    {
      "cell_type": "code",
      "execution_count": null,
      "metadata": {
        "colab": {
          "base_uri": "https://localhost:8080/"
        },
        "id": "Yr61BH8m8Qn1",
        "outputId": "69620d66-e295-411f-bc5f-e9c44ff21bef"
      },
      "outputs": [
        {
          "name": "stdout",
          "output_type": "stream",
          "text": [
            "Found 936 images belonging to 2 classes.\n"
          ]
        }
      ],
      "source": [
        "validation_generator = data_generator.flow_from_directory(\n",
        "    valid_path,\n",
        "    target_size=(image_resize, image_resize),\n",
        "    batch_size=batch_size_validation,\n",
        "    class_mode='sparse')"
      ]
    },
    {
      "cell_type": "code",
      "execution_count": null,
      "metadata": {
        "id": "wPMB3mCt8_mu"
      },
      "outputs": [],
      "source": [
        "cnn_model = Sequential()\n",
        "\n",
        "cnn_model.add(Conv2D(filters=6, kernel_size=(5, 5), activation='relu', input_shape=(image_resize, image_resize, 3)))\n",
        "cnn_model.add(AveragePooling2D())\n",
        "\n",
        "cnn_model.add(Conv2D(filters=16, kernel_size=(5, 5), activation='relu'))\n",
        "cnn_model.add(AveragePooling2D())\n",
        "\n",
        "cnn_model.add(Flatten())\n",
        "\n",
        "cnn_model.add(Dense(units=120, activation='relu'))\n",
        "cnn_model.add(Dense(units=84, activation='relu'))\n",
        "cnn_model.add(Dense(units=43, activation = 'softmax'))"
      ]
    },
    {
      "cell_type": "code",
      "execution_count": null,
      "metadata": {
        "id": "kCNHDfPfk0gZ"
      },
      "outputs": [],
      "source": [
        "cnn_model.compile(loss ='sparse_categorical_crossentropy', optimizer=Adam(lr=0.001),metrics =['accuracy'])"
      ]
    },
    {
      "cell_type": "code",
      "execution_count": null,
      "metadata": {
        "colab": {
          "background_save": true,
          "base_uri": "https://localhost:8080/"
        },
        "id": "VvsbI6XX9CJ3",
        "outputId": "dc00cea0-54fd-4ecb-fabd-716fea0d6f5d"
      },
      "outputs": [
        {
          "name": "stdout",
          "output_type": "stream",
          "text": [
            "Epoch 1/5\n",
            "33/33 [==============================] - 1197s 36s/step - loss: 15.3509 - accuracy: 0.7485 - val_loss: 0.8666 - val_accuracy: 0.4637\n",
            "Epoch 2/5\n",
            "33/33 [==============================] - 202s 6s/step - loss: 0.6381 - accuracy: 0.7874 - val_loss: 0.5110 - val_accuracy: 0.8568\n",
            "Epoch 3/5\n",
            "33/33 [==============================] - 219s 7s/step - loss: 0.4154 - accuracy: 0.8604 - val_loss: 0.4331 - val_accuracy: 0.8536\n",
            "Epoch 4/5\n",
            "33/33 [==============================] - 200s 6s/step - loss: 0.3066 - accuracy: 0.8863 - val_loss: 0.4081 - val_accuracy: 0.8526\n",
            "Epoch 5/5\n",
            "33/33 [==============================] - 221s 7s/step - loss: 0.2144 - accuracy: 0.9202 - val_loss: 0.3855 - val_accuracy: 0.8494\n"
          ]
        }
      ],
      "source": [
        "history = cnn_model.fit(train_generator,\n",
        "                        batch_size=500,\n",
        "                        epochs=5,\n",
        "                        verbose=1,\n",
        "                        validation_data = validation_generator)"
      ]
    },
    {
      "cell_type": "code",
      "execution_count": null,
      "metadata": {
        "colab": {
          "base_uri": "https://localhost:8080/"
        },
        "id": "9CJEDqhT9sbF",
        "outputId": "ad1e4d44-badf-425a-ce1e-5b4590cecaf5"
      },
      "outputs": [
        {
          "name": "stdout",
          "output_type": "stream",
          "text": [
            "Found 373 images belonging to 2 classes.\n"
          ]
        }
      ],
      "source": [
        "# test_generator = data_generator.flow_from_directory(\n",
        "#     '/content/drive/MyDrive/dataset/test',\n",
        "#     target_size=(image_resize, image_resize),\n",
        "#     shuffle=False,\n",
        "#     class_mode='sparse',\n",
        "#     classes=['normal_dogs','rabid_dogs'],\n",
        "#     batch_size=len(test_labels))\n",
        "test_generator = '/content/drive/MyDrive/dataset/val/rabid_dogs/dr_16_2839',"
      ]
    },
    {
      "cell_type": "code",
      "execution_count": null,
      "metadata": {
        "colab": {
          "base_uri": "https://localhost:8080/"
        },
        "id": "-d-xiSV6AdoY",
        "outputId": "e37f1568-4d6a-4435-cf22-148938c4425f"
      },
      "outputs": [
        {
          "name": "stdout",
          "output_type": "stream",
          "text": [
            "(100, 224, 224, 3)\n",
            "(100,)\n"
          ]
        }
      ],
      "source": [
        "test_images, test_labels = next(test_generator)\n",
        "print(test_images.shape)\n",
        "print(test_labels.shape)"
      ]
    },
    {
      "cell_type": "code",
      "execution_count": null,
      "metadata": {
        "colab": {
          "base_uri": "https://localhost:8080/"
        },
        "id": "n7UrV7lo9WRX",
        "outputId": "2a5b29bc-8d40-40a8-a69d-c8e755c61c4c"
      },
      "outputs": [
        {
          "name": "stdout",
          "output_type": "stream",
          "text": [
            "Test Accuracy : 0.8767\n"
          ]
        }
      ],
      "source": [
        "score = cnn_model.evaluate(test_generator,verbose=0)\n",
        "print('Test Accuracy : {:.4f}'.format(score[1]))"
      ]
    },
    {
      "cell_type": "code",
      "execution_count": null,
      "metadata": {
        "colab": {
          "base_uri": "https://localhost:8080/"
        },
        "id": "w0LsGV8z9Z0W",
        "outputId": "ee6558ba-c371-4ee1-9238-c1c947fa6ec1"
      },
      "outputs": [
        {
          "data": {
            "text/plain": [
              "dict_keys(['loss', 'accuracy', 'val_loss', 'val_accuracy'])"
            ]
          },
          "execution_count": 45,
          "metadata": {},
          "output_type": "execute_result"
        }
      ],
      "source": [
        "history.history.keys()"
      ]
    },
    {
      "cell_type": "code",
      "execution_count": null,
      "metadata": {
        "colab": {
          "base_uri": "https://localhost:8080/",
          "height": 298
        },
        "id": "W126y3tW9aam",
        "outputId": "b2203e97-6bcb-45ed-8058-4d769a738b0e"
      },
      "outputs": [
        {
          "data": {
            "text/plain": [
              "<matplotlib.legend.Legend at 0x7ff09da48d30>"
            ]
          },
          "execution_count": 51,
          "metadata": {},
          "output_type": "execute_result"
        },
        {
          "data": {
            "image/png": "[encoded data removed]",
            "text/plain": [
              "<Figure size 432x288 with 1 Axes>"
            ]
          },
          "metadata": {},
          "output_type": "display_data"
        }
      ],
      "source": [
        "accuracy = history.history['accuracy']          #aacuracy\n",
        "val_accuracy = history.history['val_accuracy']  #validation\n",
        "loss = history.history['loss']             #loss\n",
        "val_loss = history.history['val_loss']     #validation loss\n",
        "\n",
        "epochs = range(len(accuracy))              #no of epochs\n",
        "\n",
        "plt.plot(epochs, accuracy, 'r', label='Training Accuracy')         #dotted lines , b -> blue\n",
        "plt.plot(epochs, val_accuracy, 'b', label='Validation Accuracy')    #bold lines\n",
        "plt.title('Training and Validation accuracy')\n",
        "plt.legend()"
      ]
    },
    {
      "cell_type": "code",
      "execution_count": null,
      "metadata": {
        "colab": {
          "base_uri": "https://localhost:8080/",
          "height": 281
        },
        "id": "apSrsIlw9dLO",
        "outputId": "9da07cb5-48db-4d94-e69c-34b8aabeeb07"
      },
      "outputs": [
        {
          "data": {
            "image/png": "[encoded data removed]",
            "text/plain": [
              "<Figure size 432x288 with 1 Axes>"
            ]
          },
          "metadata": {},
          "output_type": "display_data"
        }
      ],
      "source": [
        "plt.plot(epochs, loss, 'b', label='Training Loss')         #loss , r -> red\n",
        "plt.plot(epochs, val_loss, 'r', label='Validation Loss')    #validation loss\n",
        "plt.title('Training and validation loss')\n",
        "plt.legend()\n",
        "plt.show()"
      ]
    },
    {
      "cell_type": "code",
      "execution_count": null,
      "metadata": {
        "colab": {
          "base_uri": "https://localhost:8080/"
        },
        "id": "oplct5DD9hKF",
        "outputId": "d88301d9-fd06-4035-b481-09f56a8e1a5b"
      },
      "outputs": [
        {
          "name": "stdout",
          "output_type": "stream",
          "text": [
            "4/4 [==============================] - 10s 2s/step\n"
          ]
        }
      ],
      "source": [
        "predicted_probabilities = cnn_model.predict(test_generator)\n",
        "predicted_classes = np.argmax(predicted_probabilities, axis=1)\n",
        "#predicted_classes = cnn_model.predict_classes(test_generator)\n",
        "#getting the indices of the classes of images\n",
        "y_true = test_labels"
      ]
    },
    {
      "cell_type": "code",
      "execution_count": null,
      "metadata": {
        "id": "85yMWV669i8V"
      },
      "outputs": [],
      "source": [
        "#plotting confusion matrix\n",
        "#from sklearn.metrics import confusion_matrix\n",
        "#cm = confusion_matrix(y_true, predicted_classes)\n",
        "#plt.figure(figsize = (25,25))\n",
        "#sns.heatmap(cm, annot=True)"
      ]
    },
    {
      "cell_type": "code",
      "execution_count": null,
      "metadata": {
        "id": "08Lofqc29oLW"
      },
      "outputs": [],
      "source": []
    }
  ],
  "metadata": {
    "colab": {
      "provenance": []
    },
    "gpuClass": "standard",
    "kernelspec": {
      "display_name": "Python 3",
      "name": "python3"
    },
    "language_info": {
      "name": "python"
    }
  },
  "nbformat": 4,
  "nbformat_minor": 0
}